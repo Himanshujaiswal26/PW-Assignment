{
  "nbformat": 4,
  "nbformat_minor": 0,
  "metadata": {
    "colab": {
      "provenance": []
    },
    "kernelspec": {
      "name": "python3",
      "display_name": "Python 3"
    },
    "language_info": {
      "name": "python"
    }
  },
  "cells": [
    {
      "cell_type": "markdown",
      "source": [
        "# 1. What is Linux"
      ],
      "metadata": {
        "id": "YT6UQu62I39M"
      }
    },
    {
      "cell_type": "markdown",
      "source": [
        "Linux is a free and open-source operating system that is based on the Linux kernel, originally developed by Linus Torvalds in 1991. It is widely used across servers, desktops, mobile devices, and embedded systems due to its stability, security, and flexibility."
      ],
      "metadata": {
        "id": "hm-wHiLaI54w"
      }
    },
    {
      "cell_type": "markdown",
      "source": [
        "**Key Features of Linux**\n",
        "\n",
        "* **Open-source** –\n",
        "    * Anyone can view, modify, and distribute the code.  \n",
        "    * **Multi-user & Multi-tasking** – Supports multiple users and processes simultaneously.\n",
        "    * **Highly customizable** – Various Linux distributions (distros) cater to different needs (e.g., Ubuntu, Fedora, Debian).\n",
        "    * **Secure & Reliable** – Preferred for servers and enterprise applications.  \n",
        "    * **Lightweight & Efficient** – Runs on everything from supercomputers to smartphones.\n",
        "\n",
        "**Popular Linux Distributions**\n",
        "\n",
        "* **Ubuntu** – User-friendly, great for beginners.\n",
        "\n",
        "* **Debian** – Stable and widely used in enterprise environments.\n",
        "\n",
        "* **Fedora** – Cutting-edge features, backed by Red Hat.\n",
        "\n",
        "* **Arch Linux** – Minimalist and highly customizable.\n",
        "\n",
        "* **Kali Linux** – Designed for cybersecurity and penetration testing."
      ],
      "metadata": {
        "id": "QhtqSeKJI803"
      }
    },
    {
      "cell_type": "markdown",
      "source": [
        "# 2. What is the difference between Hard Link & Soft Link?"
      ],
      "metadata": {
        "id": "uJfHwxmVJhy1"
      }
    },
    {
      "cell_type": "markdown",
      "source": [
        "Hard links and soft links (also called symbolic links) are two types of file links in Linux and Unix-like operating systems. They serve different purposes and behave differently when the original file is modified or deleted."
      ],
      "metadata": {
        "id": "5bBOv_7SJpUR"
      }
    },
    {
      "cell_type": "markdown",
      "source": [
        "**Key Differences Between Hard Link and Soft Link**"
      ],
      "metadata": {
        "id": "C993XmyvJp3C"
      }
    },
    {
      "cell_type": "markdown",
      "source": [
        "![Key 1.png](data:image/png;base64,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)"
      ],
      "metadata": {
        "id": "NLygfNazJ0kS"
      }
    },
    {
      "cell_type": "markdown",
      "source": [
        "**Example Commands**\n",
        "\n",
        "* Creating a Hard Link\n",
        "\n",
        "\n",
        "\n",
        "```\n",
        "ln original.txt hardlink.txt\n",
        "```\n",
        "\n",
        "* Creating a Soft Link\n",
        "\n",
        "\n",
        "\n",
        "```\n",
        "ln -s original.txt softlink.txt\n",
        "```\n",
        "\n"
      ],
      "metadata": {
        "id": "SHAFnpilJ2tF"
      }
    },
    {
      "cell_type": "markdown",
      "source": [
        "# 3. What is a Kernel in Linux"
      ],
      "metadata": {
        "id": "2664nD_SKE9G"
      }
    },
    {
      "cell_type": "markdown",
      "source": [
        "The Linux kernel is the core component of a Linux operating system. It acts as an interface between the hardware and the software, managing system resources efficiently"
      ],
      "metadata": {
        "id": "TKOetXIlKOWT"
      }
    },
    {
      "cell_type": "markdown",
      "source": [
        "**Key Functions of the Linux Kernel**\n",
        "\n",
        "* **Memory Management** – Tracks memory usage and allocation.  \n",
        "* **Process Management** – Controls which processes can use the CPU and for how long.\n",
        "* **Device Drivers** – Acts as a bridge between hardware and software.\n",
        "* **System Calls & Security** – Handles requests from applications and enforces security policies."
      ],
      "metadata": {
        "id": "OfwCBL-TKvtC"
      }
    },
    {
      "cell_type": "markdown",
      "source": [
        "**Kernel Architecture**\n",
        "\n",
        "The Linux kernel operates in kernel space, separate from user space, ensuring stability and security. It consists of several subsystems:\n",
        "\n",
        "* **Process Scheduler** – Manages CPU time allocation.\n",
        "\n",
        "* **Memory Management Unit (MMU)** – Distributes memory among processes.\n",
        "\n",
        "* **Virtual File System (VFS)** – Provides a unified interface for different file systems."
      ],
      "metadata": {
        "id": "srOTSBuSMMSq"
      }
    },
    {
      "cell_type": "markdown",
      "source": [
        "# 4. How do you create a user account"
      ],
      "metadata": {
        "id": "XmdnkQNmMU03"
      }
    },
    {
      "cell_type": "markdown",
      "source": [
        "Creating a user account in Linux is done using the useradd or adduser command.\n",
        "\n",
        "**Here’s a step-by-step guide:**"
      ],
      "metadata": {
        "id": "ELlFaLd5PW53"
      }
    },
    {
      "cell_type": "markdown",
      "source": [
        "**1. Create a New User**\n",
        "\n",
        "Run the following command to create a user:\n",
        "\n",
        "\n",
        "\n",
        "```\n",
        "sudo useradd newuser\n",
        "```\n",
        "\n",
        "Replace newuser with the desired username.\n",
        "\n",
        "\n",
        "**2. Set a Password for the User**\n",
        "\n",
        "\n",
        "\n",
        "```\n",
        "sudo passwd newuser\n",
        "```\n",
        "\n",
        "You’ll be prompted to enter and confirm the password.\n",
        "\n",
        "\n",
        "**3. Verify the User Account**\n",
        "\n",
        "Check if the user was created successfully:\n",
        "\n",
        "\n",
        "\n",
        "```\n",
        "id newuser\n",
        "```\n",
        "\n",
        "\n"
      ],
      "metadata": {
        "id": "o2TGEhT_PdNX"
      }
    },
    {
      "cell_type": "markdown",
      "source": [
        "# 5. What is the ‘grep’ command used for in Linux"
      ],
      "metadata": {
        "id": "eIMdMyekP6cp"
      }
    },
    {
      "cell_type": "markdown",
      "source": [
        "The **grep** command in Linux is a powerful tool used for searching text patterns within files. It stands for Global Regular Expression Print and is widely used by system administrators and developers to filter and analyze text data efficiently."
      ],
      "metadata": {
        "id": "SgpnCKbZQARn"
      }
    },
    {
      "cell_type": "markdown",
      "source": [
        "**Key Features of grep**\n",
        "\n",
        "* Search for specific words or patterns in files.  \n",
        "* Supports regular expressions for advanced searching.\n",
        "* Case-insensitive search using the -i option.\n",
        "* Displays line numbers with -n for easy reference.\n",
        "* Filters output using -v to exclude matching lines."
      ],
      "metadata": {
        "id": "1HSxlpGwQDZJ"
      }
    },
    {
      "cell_type": "markdown",
      "source": [
        "# 6.\n",
        "* # Step1: Create user p1\n",
        "* # Step2: He should be part of 3 groups g1,g2,g3.\n",
        "* # Step3: whenever he creates a file automatically in the group section of file grp g1 should come."
      ],
      "metadata": {
        "id": "aFKRWWh3QQl4"
      }
    },
    {
      "cell_type": "markdown",
      "source": [
        "**Step 1: Create User p1**\n",
        "\n",
        "Run the following command to create the user:\n",
        "\n",
        "\n",
        "\n",
        "```\n",
        "sudo useradd -m p1\n",
        "```\n",
        "\n",
        "The -m flag ensures a home directory is created for p1."
      ],
      "metadata": {
        "id": "PjeZbx9vQkaq"
      }
    },
    {
      "cell_type": "markdown",
      "source": [
        "**Step 2: Add p1 to Groups g1, g2, and g3**\n",
        "\n",
        "* First, create the groups if they don’t exist:\n",
        "\n",
        "\n",
        "\n",
        "```\n",
        "sudo groupadd g1\n",
        "sudo groupadd g2\n",
        "sudo groupadd g3\n",
        "\n",
        "```\n",
        "\n",
        "* Then, add p1 to all three groups:\n",
        "\n",
        "\n",
        "\n",
        "```\n",
        "sudo usermod -aG g1,g2,g3 p1\n",
        "```\n",
        "\n",
        "* The -aG flag ensures p1 is added to multiple groups without removing existing ones.\n",
        "\n"
      ],
      "metadata": {
        "id": "2au2iWmVQsI9"
      }
    },
    {
      "cell_type": "markdown",
      "source": [
        "**Step 3: Set g1 as the Default Group for File Creation**\n",
        "\n",
        "\n",
        "* To ensure files created by p1 belong to g1, change p1's primary group:\n",
        "\n",
        "\n",
        "```\n",
        "sudo usermod -g g1 p1\n",
        "```\n",
        "\n",
        "* Now, whenever p1 creates a file, it will automatically belong to g1.\n"
      ],
      "metadata": {
        "id": "1LPDfCPuQ7ne"
      }
    },
    {
      "cell_type": "markdown",
      "source": [
        "**Verify the Configuration**\n",
        "\n",
        "* Check p1's group memberships:\n",
        "\n",
        "```\n",
        "groups p1\n",
        "```\n",
        "\n",
        "* Test file creation:\n",
        "\n",
        "\n",
        "\n",
        "```\n",
        "su - p1\n",
        "touch testfile\n",
        "ls -l testfile\n",
        "\n",
        "```\n",
        "\n",
        "**The output should show g1 as the group for testfile.**\n"
      ],
      "metadata": {
        "id": "bRkSIn8aRGHa"
      }
    },
    {
      "cell_type": "markdown",
      "source": [
        "# 7.\n",
        "*   # Step1: Create directory /tmp/bg as root user and create files inside it.\n",
        "* # Step2: “abhi” should be the owner of the directory. He should be able to create files and delete files inside\n",
        "# the directory and also he should be able to add content to all files inside the directory\n"
      ],
      "metadata": {
        "id": "soOQ98aeRVcC"
      }
    },
    {
      "cell_type": "markdown",
      "source": [
        "**Step 1: Create the Directory and Files as Root**\n",
        "\n",
        "* Open a terminal and run:\n",
        "\n",
        "\n",
        "\n",
        "```\n",
        "sudo mkdir /tmp/bg\n",
        "\n",
        "```\n",
        "\n",
        "* Create some files inside:\n",
        "\n",
        "\n",
        "```\n",
        "sudo touch /tmp/bg/file1 /tmp/bg/file2 /tmp/bg/file3\n",
        "\n",
        "```\n",
        "\n",
        "\n",
        "\n"
      ],
      "metadata": {
        "id": "3Qt0oZJbb_Kr"
      }
    },
    {
      "cell_type": "markdown",
      "source": [
        "**Step 2: Change Ownership to \"abhi\"**\n",
        "\n",
        "* Set \"abhi\" as the owner of the directory and its files:\n",
        "\n",
        "\n",
        "\n",
        "```\n",
        "sudo chown -R abhi:abhi /tmp/bg\n",
        "\n",
        "```\n",
        "\n",
        "\n"
      ],
      "metadata": {
        "id": "kTwN-dB2cPMo"
      }
    },
    {
      "cell_type": "markdown",
      "source": [
        "**Step 3: Set Correct Permissions**\n",
        "\n",
        "* Ensure \"abhi\" can create, delete, and modify files\n",
        "\n",
        "\n",
        "\n",
        "```\n",
        "chmod 700 /tmp/bg\n",
        "\n",
        "```\n",
        "\n",
        "* This grants full control to the owner.\n",
        "\n",
        "* To allow \"abhi\" to modify all files inside\n",
        "\n",
        "\n",
        "\n",
        "```\n",
        "chmod -R u+w /tmp/bg\n",
        "\n",
        "```\n",
        "\n",
        "* With this setup, \"abhi\" will have complete control over the directory and its contents.\n",
        "\n",
        "\n",
        "\n"
      ],
      "metadata": {
        "id": "aL8bGbP0cVs7"
      }
    }
  ]
}