{
  "nbformat": 4,
  "nbformat_minor": 0,
  "metadata": {
    "colab": {
      "provenance": []
    },
    "kernelspec": {
      "name": "python3",
      "display_name": "Python 3"
    },
    "language_info": {
      "name": "python"
    }
  },
  "cells": [
    {
      "cell_type": "markdown",
      "source": [
        "# 1. Task: Create a new text file and write a few lines of text into it."
      ],
      "metadata": {
        "id": "EeYUeHe_jtpT"
      }
    },
    {
      "cell_type": "markdown",
      "source": [
        "You can create a new text file and add content to it using a simple command in Linux. Here's how:"
      ],
      "metadata": {
        "id": "ksAFXL8Rj1NQ"
      }
    },
    {
      "cell_type": "markdown",
      "source": [
        "**Step 1: Create a Text File and Write Content**\n",
        "\n",
        "* Open a terminal and run:"
      ],
      "metadata": {
        "id": "jiXuRKzjj22A"
      }
    },
    {
      "cell_type": "code",
      "source": [
        "!echo \"This is the first line of text.\" > newfile.txt\n",
        "!echo \"Here is another line of text.\" >> newfile.txt\n",
        "!echo \"This is the final line.\" >> newfile.txt"
      ],
      "metadata": {
        "id": "QL-k-esBkFsK"
      },
      "execution_count": 2,
      "outputs": []
    },
    {
      "cell_type": "markdown",
      "source": [
        "* The > operator creates the file and writes the first line, while the >> operator appends additional lines.\n"
      ],
      "metadata": {
        "id": "D7K6NxqTkRSo"
      }
    },
    {
      "cell_type": "markdown",
      "source": [
        "**Step 2: Verify the Content**\n",
        "\n",
        "* To check the contents of the file, use\n"
      ],
      "metadata": {
        "id": "oH5-oox8kUXi"
      }
    },
    {
      "cell_type": "code",
      "source": [
        "cat newfile.txt"
      ],
      "metadata": {
        "colab": {
          "base_uri": "https://localhost:8080/"
        },
        "id": "kliJVk9SkXok",
        "outputId": "77a8195e-5ff3-47aa-a49d-b61ca61cfe18"
      },
      "execution_count": 3,
      "outputs": [
        {
          "output_type": "stream",
          "name": "stdout",
          "text": [
            "This is the first line of text.\n",
            "Here is another line of text.\n",
            "This is the final line.\n"
          ]
        }
      ]
    },
    {
      "cell_type": "markdown",
      "source": [
        "# 2. Task: Open and read the contents of the file you just create."
      ],
      "metadata": {
        "id": "SUFS3DnOkc8f"
      }
    },
    {
      "cell_type": "markdown",
      "source": [
        "You can open and read the contents of the file using the cat command or a text editor.\n"
      ],
      "metadata": {
        "id": "qy2s--lplEnf"
      }
    },
    {
      "cell_type": "markdown",
      "source": [
        "**Method 1: Using cat (Display Contents in Terminal)**\n",
        "\n",
        "* Run the following command in the terminal:\n"
      ],
      "metadata": {
        "id": "_tIQkkoGlGwX"
      }
    },
    {
      "cell_type": "code",
      "source": [
        "!cat newfile.txt"
      ],
      "metadata": {
        "colab": {
          "base_uri": "https://localhost:8080/"
        },
        "id": "81RIJyywlN0F",
        "outputId": "846ad138-2202-406d-e99c-5d0574e69750"
      },
      "execution_count": 4,
      "outputs": [
        {
          "output_type": "stream",
          "name": "stdout",
          "text": [
            "This is the first line of text.\n",
            "Here is another line of text.\n",
            "This is the final line.\n"
          ]
        }
      ]
    },
    {
      "cell_type": "markdown",
      "source": [
        "* This will display the entire content of newfile.txt.\n"
      ],
      "metadata": {
        "id": "-l6fMlb1lQDV"
      }
    },
    {
      "cell_type": "markdown",
      "source": [
        "**Method 2: Using less or more (Scroll Through Contents)**\n",
        "\n",
        "* If the file is large, use\n",
        "\n"
      ],
      "metadata": {
        "id": "RsN4O3XBlSp4"
      }
    },
    {
      "cell_type": "code",
      "source": [
        "less newfile.txt\n"
      ],
      "metadata": {
        "id": "MKhPWvAQlYYL"
      },
      "execution_count": 5,
      "outputs": []
    },
    {
      "cell_type": "markdown",
      "source": [
        "* These allow scrolling through the file content"
      ],
      "metadata": {
        "id": "xJNF1yI4lavc"
      }
    },
    {
      "cell_type": "markdown",
      "source": [
        "**Method 3: Open with a Text Editor**\n",
        "\n",
        "* If you want to edit or view the file interactively\n",
        "\n",
        "    * Open with Nano:\n"
      ],
      "metadata": {
        "id": "AhLlL4XFlf0-"
      }
    },
    {
      "cell_type": "code",
      "source": [
        "!nano newfile.txt"
      ],
      "metadata": {
        "colab": {
          "base_uri": "https://localhost:8080/"
        },
        "id": "S2y3vf5tlqV2",
        "outputId": "1bd84e56-9a32-423e-9e6b-41f646c86ae4"
      },
      "execution_count": 7,
      "outputs": [
        {
          "output_type": "stream",
          "name": "stdout",
          "text": [
            "/bin/bash: line 1: nano: command not found\n"
          ]
        }
      ]
    },
    {
      "cell_type": "markdown",
      "source": [
        "* Open with Vim:"
      ],
      "metadata": {
        "id": "vtrQOpIllwLQ"
      }
    },
    {
      "cell_type": "code",
      "source": [
        "!vim newfile.txt\n"
      ],
      "metadata": {
        "colab": {
          "base_uri": "https://localhost:8080/"
        },
        "id": "e-Fu17Hzl1Eb",
        "outputId": "b1f8dba9-7ab1-4a95-9d92-2af0d5bac8b4"
      },
      "execution_count": 9,
      "outputs": [
        {
          "output_type": "stream",
          "name": "stdout",
          "text": [
            "\u001b7\u001b[?47h\u001b[>4;2m\u001b[?1h\u001b=\u001b[?2004h\u001b[?1004h\u001b[1;24r\u001b[?12h\u001b[?12l\u001b[22;2t\u001b[22;1t\u001b[29m\u001b[m\u001b[H\u001b[2J\u001b[?25l\u001b[24;1H\"newfile.txt\" 3L, 86B\u001b[2;1H▽\u001b[6n\u001b[2;1H  \u001b[3;1H\u001bPzz\u001b\\\u001b[0%m\u001b[6n\u001b[3;1H           \u001b[1;1H\u001b[>c\u001b]10;?\u0007\u001b]11;?\u0007\u001b[1;1HThis is the first line of text.\n",
            "Here is another line of text.\u001b[2;30H\u001b[K\u001b[3;1HThis is the final line.\u001b[3;24H\u001b[K\u001b[4;1H\u001b[1m\u001b[34m~                                                                               \u001b[5;1H~                                                                               \u001b[6;1H~                                                                               \u001b[7;1H~                                                                               \u001b[8;1H~                                                                               \u001b[9;1H~                                                                               \u001b[10;1H~                                                                               \u001b[11;1H~                                                                               \u001b[12;1H~                                                                               \u001b[13;1H~                                                                               \u001b[14;1H~                                                                               \u001b[15;1H~                                                                               \u001b[16;1H~                                                                               \u001b[17;1H~                                                                               \u001b[18;1H~                                                                               \u001b[19;1H~                                                                               \u001b[20;1H~                                                                               \u001b[21;1H~                                                                               \u001b[22;1H~                                                                               \u001b[23;1H~                                                                               \u001b[m\u001b[24;63H1,1\u001b[11CAll\u001b[1;1H\u001b[?25h\u001b[24;1H\u001b[?1004l\u001b[?2004l\u001b[?1l\u001b>\u001b[>4;m\u001b[2J\u001b[?47l\u001b8Vim: Caught deadly signal TERM\n",
            "Vim: Finished.\n",
            "\u001b[24;1H\u001b[23;2t\u001b[23;1t\n",
            "^C\n"
          ]
        }
      ]
    },
    {
      "cell_type": "markdown",
      "source": [
        "# 3.Task: Add additional text to the existing file without deleting the current content"
      ],
      "metadata": {
        "id": "TM_gzj8kmCzL"
      }
    },
    {
      "cell_type": "markdown",
      "source": [
        "You can append new text to an existing file without deleting its current content using the >> operator. Here's how:\n"
      ],
      "metadata": {
        "id": "Sw4hxH8YmLZ_"
      }
    },
    {
      "cell_type": "markdown",
      "source": [
        "**Step 1: Append Text to the File**\n",
        "\n",
        "* Run the following command in the terminal:"
      ],
      "metadata": {
        "id": "OmlJZSasmMrh"
      }
    },
    {
      "cell_type": "code",
      "source": [
        "!echo \"This is an additional line of text.\" >> newfile.txt\n"
      ],
      "metadata": {
        "id": "l8xe1bgTmRtN"
      },
      "execution_count": 10,
      "outputs": []
    },
    {
      "cell_type": "markdown",
      "source": [
        "* This will add the new text at the end of newfile.txt.\n"
      ],
      "metadata": {
        "id": "nOCgYalWmTA2"
      }
    },
    {
      "cell_type": "markdown",
      "source": [
        "**Step 2: Verify the Updated Content**\n",
        "\n",
        "* Use:\n",
        "\n",
        "\n"
      ],
      "metadata": {
        "id": "_bSKwIX9mVbk"
      }
    },
    {
      "cell_type": "code",
      "source": [
        "cat newfile.txt\n"
      ],
      "metadata": {
        "colab": {
          "base_uri": "https://localhost:8080/"
        },
        "id": "f942FfQAmaxY",
        "outputId": "c79ba5cb-0418-4d4f-9fba-22b3ecb6988f"
      },
      "execution_count": 11,
      "outputs": [
        {
          "output_type": "stream",
          "name": "stdout",
          "text": [
            "This is the first line of text.\n",
            "Here is another line of text.\n",
            "This is the final line.\n",
            "This is an additional line of text.\n"
          ]
        }
      ]
    },
    {
      "cell_type": "markdown",
      "source": [
        "* to check if the new line has been successfully added."
      ],
      "metadata": {
        "id": "EVCSx1NHmdIB"
      }
    },
    {
      "cell_type": "markdown",
      "source": [
        "**Alternative Method: Edit the File Manually**\n",
        "\n",
        "* Open the file using Nano\n"
      ],
      "metadata": {
        "id": "aCDZl7HRmiu3"
      }
    },
    {
      "cell_type": "code",
      "source": [
        "!nano newfile.txt\n"
      ],
      "metadata": {
        "colab": {
          "base_uri": "https://localhost:8080/"
        },
        "id": "etJe5BoEmnp3",
        "outputId": "7473b6d5-063e-4175-dca1-b9224143daf6"
      },
      "execution_count": 12,
      "outputs": [
        {
          "output_type": "stream",
          "name": "stdout",
          "text": [
            "/bin/bash: line 1: nano: command not found\n"
          ]
        }
      ]
    },
    {
      "cell_type": "markdown",
      "source": [
        "# 4. Task: Read and print each line from the file one by one"
      ],
      "metadata": {
        "id": "ENaj9awpmpKt"
      }
    },
    {
      "cell_type": "markdown",
      "source": [
        "You can read and print each line from a file one by one using the while loop in Bash."
      ],
      "metadata": {
        "id": "8bXMEQ7MmwX2"
      }
    },
    {
      "cell_type": "markdown",
      "source": [
        "**Method 1: Using while Loop**\n",
        "\n",
        "* Run this command in the terminal:\n"
      ],
      "metadata": {
        "id": "4s7K8Cypmyno"
      }
    },
    {
      "cell_type": "code",
      "source": [
        "!while IFS= read -r line; do\n",
        "!    echo \"$line\"\n",
        "!done < newfile.txt"
      ],
      "metadata": {
        "colab": {
          "base_uri": "https://localhost:8080/"
        },
        "id": "TjsxOK7pm4LB",
        "outputId": "e9f01185-6296-4249-8579-0da3881f7756"
      },
      "execution_count": 19,
      "outputs": [
        {
          "output_type": "stream",
          "name": "stdout",
          "text": [
            "/bin/bash: -c: line 2: syntax error: unexpected end of file\n",
            "\n",
            "/bin/bash: -c: line 1: syntax error near unexpected token `done'\n",
            "/bin/bash: -c: line 1: `done < newfile.txt'\n"
          ]
        }
      ]
    },
    {
      "cell_type": "markdown",
      "source": [
        "* This reads the file line by line and prints each line separately.\n"
      ],
      "metadata": {
        "id": "3wodB-ppnPlo"
      }
    },
    {
      "cell_type": "markdown",
      "source": [
        "**Method 2: Using awk**\n",
        "\n",
        "* If you prefer using awk, try:\n",
        "\n",
        "\n",
        "\n"
      ],
      "metadata": {
        "id": "9rRtqBh8nVhq"
      }
    },
    {
      "cell_type": "code",
      "source": [
        "!awk '{print $0}' newfile.txt"
      ],
      "metadata": {
        "colab": {
          "base_uri": "https://localhost:8080/"
        },
        "id": "80x5UW7_nY68",
        "outputId": "946aa148-22cf-4720-a233-7e3a832fa185"
      },
      "execution_count": 21,
      "outputs": [
        {
          "output_type": "stream",
          "name": "stdout",
          "text": [
            "This is the first line of text.\n",
            "Here is another line of text.\n",
            "This is the final line.\n",
            "This is an additional line of text.\n"
          ]
        }
      ]
    },
    {
      "cell_type": "markdown",
      "source": [
        "* This prints each line from the file\n"
      ],
      "metadata": {
        "id": "N1o89j4CncTu"
      }
    },
    {
      "cell_type": "markdown",
      "source": [
        "**Method 3: Using cat with while**\n",
        "\n",
        "* Another simple way:\n",
        "\n",
        "  "
      ],
      "metadata": {
        "id": "oFYuVO-9neuY"
      }
    },
    {
      "cell_type": "code",
      "source": [
        "!cat newfile.txt | while read line; do\n",
        "!    echo \"$line\"\n",
        "! done"
      ],
      "metadata": {
        "colab": {
          "base_uri": "https://localhost:8080/"
        },
        "id": "8PnnB9vdnkQs",
        "outputId": "6230a431-bff0-4c6d-aa8c-7dc4adcadc9f"
      },
      "execution_count": 26,
      "outputs": [
        {
          "output_type": "stream",
          "name": "stdout",
          "text": [
            "/bin/bash: -c: line 2: syntax error: unexpected end of file\n",
            "\n",
            "/bin/bash: -c: line 1: syntax error near unexpected token `done'\n",
            "/bin/bash: -c: line 1: ` done'\n"
          ]
        }
      ]
    },
    {
      "cell_type": "markdown",
      "source": [
        "# 5. Task: Write the contents of a list to a file, with each item on a new line.\n"
      ],
      "metadata": {
        "id": "KK7fx-F8n3Fd"
      }
    },
    {
      "cell_type": "markdown",
      "source": [
        "You can write the contents of a list to a file with each item on a new line using Bash."
      ],
      "metadata": {
        "id": "o4cB8U1poAaa"
      }
    },
    {
      "cell_type": "markdown",
      "source": [
        "**Method 1: Using echo with >>**\n",
        "\n",
        "* If you have a predefined list, you can use\n",
        "\n",
        "\n"
      ],
      "metadata": {
        "id": "rHsxvya8oCjM"
      }
    },
    {
      "cell_type": "code",
      "source": [
        "!echo -e \"Item1\\nItem2\\nItem3\\nItem4\" > list.txt"
      ],
      "metadata": {
        "id": "5zVbM1KsoOgi"
      },
      "execution_count": 27,
      "outputs": []
    },
    {
      "cell_type": "markdown",
      "source": [
        "* This creates list.txt and writes each item on a separate line.\n"
      ],
      "metadata": {
        "id": "Uv9h5cJeoVD4"
      }
    },
    {
      "cell_type": "markdown",
      "source": [
        "**Method 2: Using a Loop**\n",
        "\n",
        "* For a dynamic list:"
      ],
      "metadata": {
        "id": "KkIr-Qu2oXKq"
      }
    },
    {
      "cell_type": "code",
      "source": [
        "!LIST=(\"Apple\" \"Banana\" \"Cherry\" \"Date\")\n",
        "\n",
        "!for item in \"${LIST[@]}\"; do\n",
        "!    echo \"$item\" >> list.txt\n",
        "!done"
      ],
      "metadata": {
        "colab": {
          "base_uri": "https://localhost:8080/"
        },
        "id": "oWcoI765oeY0",
        "outputId": "61c260c2-512d-4fe6-f392-011fce7a3bf8"
      },
      "execution_count": 30,
      "outputs": [
        {
          "output_type": "stream",
          "name": "stdout",
          "text": [
            "/bin/bash: -c: line 2: syntax error: unexpected end of file\n",
            "/bin/bash: -c: line 1: syntax error near unexpected token `done'\n",
            "/bin/bash: -c: line 1: `done'\n"
          ]
        }
      ]
    },
    {
      "cell_type": "markdown",
      "source": [
        "* This writes each item to list.txt on a new line.\n",
        "\n"
      ],
      "metadata": {
        "id": "vdBF9Lh0orbT"
      }
    },
    {
      "cell_type": "markdown",
      "source": [
        "**Method 3: Using printf**\n",
        "\n",
        "* Another efficient way\n",
        "\n",
        "\n"
      ],
      "metadata": {
        "id": "XlSngh9_othM"
      }
    },
    {
      "cell_type": "code",
      "source": [
        "!printf \"%s\\n\" \"Item1\" \"Item2\" \"Item3\" \"Item4\" > list.txt"
      ],
      "metadata": {
        "id": "HVffo8uyo2_a"
      },
      "execution_count": 38,
      "outputs": []
    },
    {
      "cell_type": "markdown",
      "source": [
        "* Once done, you can verify:"
      ],
      "metadata": {
        "id": "XLFklFQjpIEm"
      }
    },
    {
      "cell_type": "code",
      "source": [
        "cat list.txt"
      ],
      "metadata": {
        "colab": {
          "base_uri": "https://localhost:8080/"
        },
        "id": "lyj-jcp3pMAt",
        "outputId": "2babfae1-dea0-47d2-f6e0-0700d408f122"
      },
      "execution_count": 39,
      "outputs": [
        {
          "output_type": "stream",
          "name": "stdout",
          "text": [
            "Item1\n",
            "Item2\n",
            "Item3\n",
            "Item4\n"
          ]
        }
      ]
    },
    {
      "cell_type": "markdown",
      "source": [
        "# 6. Task: Read the file content into a list, where each line is an element of the list."
      ],
      "metadata": {
        "id": "a23lOGXMpQ-a"
      }
    },
    {
      "cell_type": "markdown",
      "source": [
        "You can read a file into a list in Bash using different approaches."
      ],
      "metadata": {
        "id": "mCXKEGRmpYEk"
      }
    },
    {
      "cell_type": "markdown",
      "source": [
        "**Method 1: Using an Array in a While Loop**"
      ],
      "metadata": {
        "id": "KPG_R2c6pbTH"
      }
    },
    {
      "cell_type": "code",
      "source": [
        "!LIST=()\n",
        "\n",
        "!while IFS= read -r line; do\n",
        "!    LIST+=(\"$line\")\n",
        "!done < list.txt\n",
        "\n",
        "# Print the list elements\n",
        "!echo \"${LIST[@]}\""
      ],
      "metadata": {
        "colab": {
          "base_uri": "https://localhost:8080/"
        },
        "id": "lGZLqPvGpdfX",
        "outputId": "df7ab57c-02f7-4a4c-fb44-03dcb6bb37a2"
      },
      "execution_count": 41,
      "outputs": [
        {
          "output_type": "stream",
          "name": "stdout",
          "text": [
            "/bin/bash: -c: line 2: syntax error: unexpected end of file\n",
            "/bin/bash: -c: line 1: syntax error near unexpected token `done'\n",
            "/bin/bash: -c: line 1: `done < list.txt'\n",
            "\n"
          ]
        }
      ]
    },
    {
      "cell_type": "markdown",
      "source": [
        "* Each line of list.txt will be stored as an individual element in the LIST array.\n",
        "\n"
      ],
      "metadata": {
        "id": "pcT_EdlPpj2m"
      }
    },
    {
      "cell_type": "markdown",
      "source": [
        "**Method 2: Using mapfile**\n",
        "\n",
        "* A simpler method using mapfile:\n",
        "\n",
        "\n"
      ],
      "metadata": {
        "id": "uZC0p5cWpkxM"
      }
    },
    {
      "cell_type": "code",
      "source": [
        "!mapfile -t LIST < list.txt\n",
        "\n",
        "# Print the list elements\n",
        "!echo \"${LIST[@]}\""
      ],
      "metadata": {
        "colab": {
          "base_uri": "https://localhost:8080/"
        },
        "id": "fjIkYj0Xpoyz",
        "outputId": "b1ee594a-b19e-408d-a28c-1b4e03adee0c"
      },
      "execution_count": 43,
      "outputs": [
        {
          "output_type": "stream",
          "name": "stdout",
          "text": [
            "\n"
          ]
        }
      ]
    },
    {
      "cell_type": "markdown",
      "source": [
        "* This reads the file and directly stores each line as an element in LIST\n"
      ],
      "metadata": {
        "id": "L63HauQqpsWC"
      }
    },
    {
      "cell_type": "markdown",
      "source": [
        "**Verifying the List**\n",
        "\n",
        "* If you want to check each element separately:\n",
        "\n"
      ],
      "metadata": {
        "id": "-H-4vzMjpuOR"
      }
    },
    {
      "cell_type": "code",
      "source": [
        "!for item in \"${LIST[@]}\"; do\n",
        "!    echo \"$item\"\n",
        "!done"
      ],
      "metadata": {
        "colab": {
          "base_uri": "https://localhost:8080/"
        },
        "id": "W7Y0jsS0pxoT",
        "outputId": "3798f23e-a13d-49e2-b2c0-70ff2b6399f9"
      },
      "execution_count": 45,
      "outputs": [
        {
          "output_type": "stream",
          "name": "stdout",
          "text": [
            "/bin/bash: -c: line 2: syntax error: unexpected end of file\n",
            "\n",
            "/bin/bash: -c: line 1: syntax error near unexpected token `done'\n",
            "/bin/bash: -c: line 1: `done'\n"
          ]
        }
      ]
    },
    {
      "cell_type": "markdown",
      "source": [
        "# 7. Task: Count the total number of words in the file.\n"
      ],
      "metadata": {
        "id": "Gm-HmUYEp2-e"
      }
    },
    {
      "cell_type": "markdown",
      "source": [
        "You can count the total number of words in a file using the wc command in Linux.\n"
      ],
      "metadata": {
        "id": "jpY5w1m4qAcT"
      }
    },
    {
      "cell_type": "markdown",
      "source": [
        "**Step 1: Use wc -w**\n",
        "\n",
        "* Run the following command in the terminal:\n",
        "\n"
      ],
      "metadata": {
        "id": "GMLRdK1YqDi7"
      }
    },
    {
      "cell_type": "code",
      "source": [
        "!wc -w list.txt"
      ],
      "metadata": {
        "colab": {
          "base_uri": "https://localhost:8080/"
        },
        "id": "nxh08TC4qKwo",
        "outputId": "d0acc081-c583-4d19-a71c-bf3a894c183b"
      },
      "execution_count": 47,
      "outputs": [
        {
          "output_type": "stream",
          "name": "stdout",
          "text": [
            "4 list.txt\n"
          ]
        }
      ]
    },
    {
      "cell_type": "markdown",
      "source": [
        "* This will display the total word count in list.txt.\n"
      ],
      "metadata": {
        "id": "rSU-fyItqORV"
      }
    },
    {
      "cell_type": "markdown",
      "source": [
        "# 8. Task: Copy the contents of one file to another file."
      ],
      "metadata": {
        "id": "F_MzJvZHqQna"
      }
    },
    {
      "cell_type": "markdown",
      "source": [
        "You can copy the contents of one file to another in several ways"
      ],
      "metadata": {
        "id": "3bji8xspqYel"
      }
    },
    {
      "cell_type": "markdown",
      "source": [
        "**Method 1: Using cp (Direct Copy)**\n",
        "\n",
        "* If you want to copy the entire file\n"
      ],
      "metadata": {
        "id": "qvZLOCWMqdws"
      }
    },
    {
      "cell_type": "code",
      "source": [
        "cp newfile.txt list.xt"
      ],
      "metadata": {
        "id": "ReOT0BrJqjYh"
      },
      "execution_count": 49,
      "outputs": []
    },
    {
      "cell_type": "markdown",
      "source": [
        "* This creates destination.txt with the same content as source.txt.\n",
        "\n"
      ],
      "metadata": {
        "id": "uAZVWWLUqt3l"
      }
    },
    {
      "cell_type": "markdown",
      "source": [
        "**Method 2: Using cat (Overwrite or Append)**\n",
        "\n",
        "* To overwrite destination.txt with the content of source.txt:\n",
        "\n"
      ],
      "metadata": {
        "id": "46IGE4Dpqvju"
      }
    },
    {
      "cell_type": "code",
      "source": [
        "cat newfile.txt > list.txt"
      ],
      "metadata": {
        "id": "b4YF_HEDq4oC"
      },
      "execution_count": 50,
      "outputs": []
    },
    {
      "cell_type": "markdown",
      "source": [
        "* To append the content instead:"
      ],
      "metadata": {
        "id": "R1gkZsoCq9X9"
      }
    },
    {
      "cell_type": "code",
      "source": [
        "cat newfile.txt >> list.txt\n"
      ],
      "metadata": {
        "id": "3KbmJxhlrBLH"
      },
      "execution_count": 51,
      "outputs": []
    },
    {
      "cell_type": "markdown",
      "source": [
        "**Method 3: Using tee (Copy and Print)**\n",
        "\n",
        "* If you want to copy and also display the content:\n",
        ""
      ],
      "metadata": {
        "id": "6piPr3exrGN1"
      }
    },
    {
      "cell_type": "code",
      "source": [
        "cat newfile.txt | tee list.txt"
      ],
      "metadata": {
        "colab": {
          "base_uri": "https://localhost:8080/"
        },
        "id": "s_mgapjirMD2",
        "outputId": "128aa592-8200-4e8f-9fc4-4bc7c20dc439"
      },
      "execution_count": 52,
      "outputs": [
        {
          "output_type": "stream",
          "name": "stdout",
          "text": [
            "This is the first line of text.\n",
            "Here is another line of text.\n",
            "This is the final line.\n",
            "This is an additional line of text.\n"
          ]
        }
      ]
    },
    {
      "cell_type": "markdown",
      "source": [
        "# 9. Task: Check if a file exists before attempting to read it"
      ],
      "metadata": {
        "id": "tgd2bz8hrQ7A"
      }
    },
    {
      "cell_type": "markdown",
      "source": [
        "You can check if a file exists before reading it using Bash."
      ],
      "metadata": {
        "id": "pVfi3LB0rfFq"
      }
    },
    {
      "cell_type": "markdown",
      "source": [
        "**Method 1: Using if Statement**\n"
      ],
      "metadata": {
        "id": "hjQccTuArgTr"
      }
    },
    {
      "cell_type": "code",
      "source": [
        "!FILE=\"filename.txt\"\n",
        "\n",
        "!if [ -f \"$FILE\" ]; then\n",
        "!    cat \"$FILE\"\n",
        "!else\n",
        "!    echo \"File does not exist!\"\n",
        "!fi"
      ],
      "metadata": {
        "colab": {
          "base_uri": "https://localhost:8080/"
        },
        "id": "xlU6STomrjib",
        "outputId": "532e9373-b671-49e6-a216-e69f2d467621"
      },
      "execution_count": 54,
      "outputs": [
        {
          "output_type": "stream",
          "name": "stdout",
          "text": [
            "/bin/bash: -c: line 2: syntax error: unexpected end of file\n",
            "cat: '': No such file or directory\n",
            "/bin/bash: -c: line 1: syntax error near unexpected token `else'\n",
            "/bin/bash: -c: line 1: `else'\n",
            "File does not exist!\n",
            "/bin/bash: -c: line 1: syntax error near unexpected token `fi'\n",
            "/bin/bash: -c: line 1: `fi'\n"
          ]
        }
      ]
    },
    {
      "cell_type": "markdown",
      "source": [
        "* This checks if filename.txt exists before attempting to read it.\n"
      ],
      "metadata": {
        "id": "U5QN5BnProXt"
      }
    },
    {
      "cell_type": "markdown",
      "source": [
        "**Method 2: Using test Command**\n"
      ],
      "metadata": {
        "id": "v55JiaxfrqB2"
      }
    },
    {
      "cell_type": "code",
      "source": [
        "!test -f filename.txt && cat filename.txt || echo \"File not found!\""
      ],
      "metadata": {
        "colab": {
          "base_uri": "https://localhost:8080/"
        },
        "id": "kYuyfj6VrtCw",
        "outputId": "4ec69791-d4d2-412a-d2de-08424730a33a"
      },
      "execution_count": 56,
      "outputs": [
        {
          "output_type": "stream",
          "name": "stdout",
          "text": [
            "File not found!\n"
          ]
        }
      ]
    },
    {
      "cell_type": "markdown",
      "source": [
        "* This is a more compact version that checks and reads the file in a single line.\n"
      ],
      "metadata": {
        "id": "ict6fX_Jrwta"
      }
    },
    {
      "cell_type": "markdown",
      "source": [
        "**Method 3: Using ls with Conditional Execution**\n"
      ],
      "metadata": {
        "id": "w9Sgwhtar1q9"
      }
    },
    {
      "cell_type": "code",
      "source": [
        "ls filename.txt && cat filename.txt || echo \"File not available!\""
      ],
      "metadata": {
        "colab": {
          "base_uri": "https://localhost:8080/"
        },
        "id": "HoPL3yUur6Y3",
        "outputId": "d07da718-edea-4895-e734-2653d37e3864"
      },
      "execution_count": 57,
      "outputs": [
        {
          "output_type": "stream",
          "name": "stdout",
          "text": [
            "ls: cannot access 'filename.txt': No such file or directory\n",
            "File not available!\n"
          ]
        }
      ]
    },
    {
      "cell_type": "markdown",
      "source": [
        "# 10. Task: Delete a file using Python\n"
      ],
      "metadata": {
        "id": "bUECUpjzr9Mz"
      }
    },
    {
      "cell_type": "markdown",
      "source": [
        "You can delete a file in Python using the os or pathlib modules.\n"
      ],
      "metadata": {
        "id": "Th660eNxsGDO"
      }
    },
    {
      "cell_type": "markdown",
      "source": [
        "**Method 1: Using os.remove()**\n"
      ],
      "metadata": {
        "id": "G4BTpsaTsKpA"
      }
    },
    {
      "cell_type": "code",
      "source": [
        "import os\n",
        "\n",
        "file_path = \"example.txt\"\n",
        "\n",
        "# Check if the file exists before deleting\n",
        "if os.path.exists(file_path):\n",
        "    os.remove(file_path)\n",
        "    print(f\"{file_path} has been deleted.\")\n",
        "else:\n",
        "    print(\"File not found!\")"
      ],
      "metadata": {
        "colab": {
          "base_uri": "https://localhost:8080/"
        },
        "id": "NfP6_cRisPc7",
        "outputId": "ed9adaaf-a3f1-414f-d045-cb242ed28a96"
      },
      "execution_count": 58,
      "outputs": [
        {
          "output_type": "stream",
          "name": "stdout",
          "text": [
            "File not found!\n"
          ]
        }
      ]
    },
    {
      "cell_type": "markdown",
      "source": [
        "**Method 2: Using pathlib.Path.unlink()**\n"
      ],
      "metadata": {
        "id": "_h0TYvF9sRRU"
      }
    },
    {
      "cell_type": "code",
      "source": [
        "from pathlib import Path\n",
        "\n",
        "file_path = Path(\"example.txt\")\n",
        "\n",
        "# Check if file exists before deleting\n",
        "if file_path.exists():\n",
        "    file_path.unlink()\n",
        "    print(f\"{file_path} has been deleted.\")\n",
        "else:\n",
        "    print(\"File not found!\")"
      ],
      "metadata": {
        "colab": {
          "base_uri": "https://localhost:8080/"
        },
        "id": "MyWbo0SesUM3",
        "outputId": "382dd7f6-06a2-480c-9b85-fb2304e1580d"
      },
      "execution_count": 59,
      "outputs": [
        {
          "output_type": "stream",
          "name": "stdout",
          "text": [
            "File not found!\n"
          ]
        }
      ]
    }
  ]
}